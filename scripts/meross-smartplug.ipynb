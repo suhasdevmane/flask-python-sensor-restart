{
 "cells": [
  {
   "cell_type": "code",
   "execution_count": 5,
   "metadata": {},
   "outputs": [],
   "source": [
    "# pip install meross_iot==0.4.6.2 --user"
   ]
  },
  {
   "cell_type": "code",
   "execution_count": 6,
   "metadata": {},
   "outputs": [
    {
     "name": "stdout",
     "output_type": "stream",
     "text": [
      "Requirement already satisfied: meross-iot in c:\\python312\\lib\\site-packages (0.4.6.2)Note: you may need to restart the kernel to use updated packages.\n",
      "\n",
      "Requirement already satisfied: paho-mqtt<2.0.0,>=1.5.0 in c:\\python312\\lib\\site-packages (from meross-iot) (1.6.1)\n",
      "Requirement already satisfied: requests<3.0.0,>=2.19.1 in c:\\python312\\lib\\site-packages (from meross-iot) (2.31.0)\n",
      "Requirement already satisfied: aiohttp[speedups]<4.0.0,>=3.7.4.post0 in c:\\python312\\lib\\site-packages (from meross-iot) (3.9.3)\n",
      "Requirement already satisfied: aiosignal>=1.1.2 in c:\\python312\\lib\\site-packages (from aiohttp[speedups]<4.0.0,>=3.7.4.post0->meross-iot) (1.3.1)\n",
      "Requirement already satisfied: attrs>=17.3.0 in c:\\python312\\lib\\site-packages (from aiohttp[speedups]<4.0.0,>=3.7.4.post0->meross-iot) (23.1.0)\n",
      "Requirement already satisfied: frozenlist>=1.1.1 in c:\\python312\\lib\\site-packages (from aiohttp[speedups]<4.0.0,>=3.7.4.post0->meross-iot) (1.4.1)\n",
      "Requirement already satisfied: multidict<7.0,>=4.5 in c:\\python312\\lib\\site-packages (from aiohttp[speedups]<4.0.0,>=3.7.4.post0->meross-iot) (6.0.5)\n",
      "Requirement already satisfied: yarl<2.0,>=1.0 in c:\\python312\\lib\\site-packages (from aiohttp[speedups]<4.0.0,>=3.7.4.post0->meross-iot) (1.9.4)\n",
      "Requirement already satisfied: Brotli in c:\\python312\\lib\\site-packages (from aiohttp[speedups]<4.0.0,>=3.7.4.post0->meross-iot) (1.1.0)\n",
      "Requirement already satisfied: charset-normalizer<4,>=2 in c:\\python312\\lib\\site-packages (from requests<3.0.0,>=2.19.1->meross-iot) (3.3.2)\n",
      "Requirement already satisfied: idna<4,>=2.5 in c:\\python312\\lib\\site-packages (from requests<3.0.0,>=2.19.1->meross-iot) (3.4)\n",
      "Requirement already satisfied: urllib3<3,>=1.21.1 in c:\\python312\\lib\\site-packages (from requests<3.0.0,>=2.19.1->meross-iot) (2.0.7)\n",
      "Requirement already satisfied: certifi>=2017.4.17 in c:\\python312\\lib\\site-packages (from requests<3.0.0,>=2.19.1->meross-iot) (2023.7.22)\n"
     ]
    },
    {
     "name": "stderr",
     "output_type": "stream",
     "text": [
      "WARNING: There was an error checking the latest version of pip.\n"
     ]
    }
   ],
   "source": [
    "pip install meross-iot --upgrade"
   ]
  },
  {
   "cell_type": "markdown",
   "metadata": {},
   "source": [
    "### Listing all devices"
   ]
  },
  {
   "cell_type": "code",
   "execution_count": 24,
   "metadata": {},
   "outputs": [
    {
     "ename": "RuntimeError",
     "evalue": "This event loop is already running",
     "output_type": "error",
     "traceback": [
      "\u001b[1;31m---------------------------------------------------------------------------\u001b[0m",
      "\u001b[1;31mRuntimeError\u001b[0m                              Traceback (most recent call last)",
      "Cell \u001b[1;32mIn[24], line 39\u001b[0m\n\u001b[0;32m     37\u001b[0m     asyncio\u001b[38;5;241m.\u001b[39mset_event_loop_policy(asyncio\u001b[38;5;241m.\u001b[39mWindowsSelectorEventLoopPolicy())\n\u001b[0;32m     38\u001b[0m loop \u001b[38;5;241m=\u001b[39m asyncio\u001b[38;5;241m.\u001b[39mget_event_loop()\n\u001b[1;32m---> 39\u001b[0m \u001b[43mloop\u001b[49m\u001b[38;5;241;43m.\u001b[39;49m\u001b[43mrun_until_complete\u001b[49m\u001b[43m(\u001b[49m\u001b[43mmain\u001b[49m\u001b[43m(\u001b[49m\u001b[43m)\u001b[49m\u001b[43m)\u001b[49m\n\u001b[0;32m     40\u001b[0m loop\u001b[38;5;241m.\u001b[39mstop()\n",
      "File \u001b[1;32mc:\\Python312\\Lib\\asyncio\\base_events.py:640\u001b[0m, in \u001b[0;36mBaseEventLoop.run_until_complete\u001b[1;34m(self, future)\u001b[0m\n\u001b[0;32m    629\u001b[0m \u001b[38;5;250m\u001b[39m\u001b[38;5;124;03m\"\"\"Run until the Future is done.\u001b[39;00m\n\u001b[0;32m    630\u001b[0m \n\u001b[0;32m    631\u001b[0m \u001b[38;5;124;03mIf the argument is a coroutine, it is wrapped in a Task.\u001b[39;00m\n\u001b[1;32m   (...)\u001b[0m\n\u001b[0;32m    637\u001b[0m \u001b[38;5;124;03mReturn the Future's result, or raise its exception.\u001b[39;00m\n\u001b[0;32m    638\u001b[0m \u001b[38;5;124;03m\"\"\"\u001b[39;00m\n\u001b[0;32m    639\u001b[0m \u001b[38;5;28mself\u001b[39m\u001b[38;5;241m.\u001b[39m_check_closed()\n\u001b[1;32m--> 640\u001b[0m \u001b[38;5;28;43mself\u001b[39;49m\u001b[38;5;241;43m.\u001b[39;49m\u001b[43m_check_running\u001b[49m\u001b[43m(\u001b[49m\u001b[43m)\u001b[49m\n\u001b[0;32m    642\u001b[0m new_task \u001b[38;5;241m=\u001b[39m \u001b[38;5;129;01mnot\u001b[39;00m futures\u001b[38;5;241m.\u001b[39misfuture(future)\n\u001b[0;32m    643\u001b[0m future \u001b[38;5;241m=\u001b[39m tasks\u001b[38;5;241m.\u001b[39mensure_future(future, loop\u001b[38;5;241m=\u001b[39m\u001b[38;5;28mself\u001b[39m)\n",
      "File \u001b[1;32mc:\\Python312\\Lib\\asyncio\\base_events.py:599\u001b[0m, in \u001b[0;36mBaseEventLoop._check_running\u001b[1;34m(self)\u001b[0m\n\u001b[0;32m    597\u001b[0m \u001b[38;5;28;01mdef\u001b[39;00m \u001b[38;5;21m_check_running\u001b[39m(\u001b[38;5;28mself\u001b[39m):\n\u001b[0;32m    598\u001b[0m     \u001b[38;5;28;01mif\u001b[39;00m \u001b[38;5;28mself\u001b[39m\u001b[38;5;241m.\u001b[39mis_running():\n\u001b[1;32m--> 599\u001b[0m         \u001b[38;5;28;01mraise\u001b[39;00m \u001b[38;5;167;01mRuntimeError\u001b[39;00m(\u001b[38;5;124m'\u001b[39m\u001b[38;5;124mThis event loop is already running\u001b[39m\u001b[38;5;124m'\u001b[39m)\n\u001b[0;32m    600\u001b[0m     \u001b[38;5;28;01mif\u001b[39;00m events\u001b[38;5;241m.\u001b[39m_get_running_loop() \u001b[38;5;129;01mis\u001b[39;00m \u001b[38;5;129;01mnot\u001b[39;00m \u001b[38;5;28;01mNone\u001b[39;00m:\n\u001b[0;32m    601\u001b[0m         \u001b[38;5;28;01mraise\u001b[39;00m \u001b[38;5;167;01mRuntimeError\u001b[39;00m(\n\u001b[0;32m    602\u001b[0m             \u001b[38;5;124m'\u001b[39m\u001b[38;5;124mCannot run the event loop while another loop is running\u001b[39m\u001b[38;5;124m'\u001b[39m)\n",
      "\u001b[1;31mRuntimeError\u001b[0m: This event loop is already running"
     ]
    }
   ],
   "source": [
    "import asyncio\n",
    "import os\n",
    "\n",
    "from meross_iot.http_api import MerossHttpClient\n",
    "from meross_iot.manager import MerossManager\n",
    "\n",
    "EMAIL = os.environ.get(\"suhasdevmanecardiffuni@gmail.com\")\n",
    "PASSWORD = os.environ.get(\"Suhas@551993\")\n",
    "\n",
    "\n",
    "async def main():\n",
    "    # Setup the HTTP client API from user-password\n",
    "    http_api_client = await MerossHttpClient.async_from_user_password(\n",
    "        email=EMAIL, password=PASSWORD\n",
    "    )\n",
    "\n",
    "    # Setup and start the device manager\n",
    "    manager = MerossManager(http_client=http_api_client)\n",
    "    await manager.async_init()\n",
    "\n",
    "    # Discover devices.\n",
    "    await manager.async_device_discovery()\n",
    "    meross_devices = manager.find_devices()\n",
    "\n",
    "    # Print them\n",
    "    print(\"I've found the following devices:\")\n",
    "    for dev in meross_devices:\n",
    "        print(f\"- {dev.name} ({dev.type}): {dev.online_status}\")\n",
    "\n",
    "    # Close the manager and logout from http_api\n",
    "    manager.close()\n",
    "    await http_api_client.async_logout()\n",
    "\n",
    "\n",
    "if __name__ == \"__main__\":\n",
    "    if os.name == \"nt\":\n",
    "        asyncio.set_event_loop_policy(asyncio.WindowsSelectorEventLoopPolicy())\n",
    "    loop = asyncio.get_event_loop()\n",
    "    loop.run_until_complete(main())\n",
    "    loop.stop()"
   ]
  },
  {
   "cell_type": "code",
   "execution_count": null,
   "metadata": {},
   "outputs": [
    {
     "name": "stdout",
     "output_type": "stream",
     "text": [
      "ERROR:Task exception was never retrieved\n",
      "future: <Task finished name='Task-5' coro=<main() done, defined at C:\\Users\\c21054458\\AppData\\Local\\Temp\\ipykernel_12384\\2202948892.py:11> exception=TypeError(\"MerossHttpClient.async_from_user_password() missing 1 required positional argument: 'api_base_url'\")>\n",
      "Traceback (most recent call last):\n",
      "  File \"C:\\Users\\c21054458\\AppData\\Local\\Temp\\ipykernel_12384\\2202948892.py\", line 13, in main\n",
      "    http_api_client = await MerossHttpClient.async_from_user_password(\n",
      "                            ^^^^^^^^^^^^^^^^^^^^^^^^^^^^^^^^^^^^^^^^^^\n",
      "TypeError: MerossHttpClient.async_from_user_password() missing 1 required positional argument: 'api_base_url'\n"
     ]
    }
   ],
   "source": [
    "import asyncio\n",
    "import os\n",
    "\n",
    "from meross_iot.http_api import MerossHttpClient\n",
    "from meross_iot.manager import MerossManager\n",
    "\n",
    "EMAIL = os.environ.get(\"suhasdevmanecardiffuni@gmail.com\")\n",
    "PASSWORD = os.environ.get(\"Suhas@551993\")\n",
    "\n",
    "\n",
    "async def main():\n",
    "    # Setup the HTTP client API from user-password\n",
    "    http_api_client = await MerossHttpClient.async_from_user_password(\n",
    "        email=EMAIL, password=PASSWORD\n",
    "    )\n",
    "\n",
    "    # Setup and start the device manager\n",
    "    manager = MerossManager(http_client=http_api_client)\n",
    "    await manager.async_init()\n",
    "\n",
    "    # Discover devices.\n",
    "    await manager.async_device_discovery()\n",
    "    meross_devices = manager.find_devices()\n",
    "\n",
    "    # Print them\n",
    "    print(\"I've found the following devices:\")\n",
    "    for dev in meross_devices:\n",
    "        print(f\"- {dev.name} ({dev.type}): {dev.online_status}\")\n",
    "\n",
    "    # Close the manager and logout from http_api\n",
    "    manager.close()\n",
    "    await http_api_client.async_logout()\n",
    "\n",
    "\n",
    "def run_main():\n",
    "    if os.name == \"nt\":\n",
    "        asyncio.set_event_loop_policy(asyncio.WindowsSelectorEventLoopPolicy())\n",
    "    loop = asyncio.get_event_loop()\n",
    "    if loop.is_running():\n",
    "        loop.create_task(main())\n",
    "    else:\n",
    "        asyncio.run(main())\n",
    "\n",
    "\n",
    "if __name__ == \"__main__\":\n",
    "    run_main()"
   ]
  },
  {
   "cell_type": "code",
   "execution_count": 26,
   "metadata": {},
   "outputs": [
    {
     "name": "stdout",
     "output_type": "stream",
     "text": [
      "Requirement already satisfied: meross_iot in c:\\python312\\lib\\site-packages (0.4.6.2)Note: you may need to restart the kernel to use updated packages.\n",
      "\n",
      "Requirement already satisfied: paho-mqtt<2.0.0,>=1.5.0 in c:\\python312\\lib\\site-packages (from meross_iot) (1.6.1)\n",
      "Requirement already satisfied: requests<3.0.0,>=2.19.1 in c:\\python312\\lib\\site-packages (from meross_iot) (2.31.0)\n",
      "Requirement already satisfied: aiohttp[speedups]<4.0.0,>=3.7.4.post0 in c:\\python312\\lib\\site-packages (from meross_iot) (3.9.3)\n",
      "Requirement already satisfied: aiosignal>=1.1.2 in c:\\python312\\lib\\site-packages (from aiohttp[speedups]<4.0.0,>=3.7.4.post0->meross_iot) (1.3.1)\n",
      "Requirement already satisfied: attrs>=17.3.0 in c:\\python312\\lib\\site-packages (from aiohttp[speedups]<4.0.0,>=3.7.4.post0->meross_iot) (23.1.0)\n",
      "Requirement already satisfied: frozenlist>=1.1.1 in c:\\python312\\lib\\site-packages (from aiohttp[speedups]<4.0.0,>=3.7.4.post0->meross_iot) (1.4.1)\n",
      "Requirement already satisfied: multidict<7.0,>=4.5 in c:\\python312\\lib\\site-packages (from aiohttp[speedups]<4.0.0,>=3.7.4.post0->meross_iot) (6.0.5)\n",
      "Requirement already satisfied: yarl<2.0,>=1.0 in c:\\python312\\lib\\site-packages (from aiohttp[speedups]<4.0.0,>=3.7.4.post0->meross_iot) (1.9.4)\n",
      "Requirement already satisfied: Brotli in c:\\python312\\lib\\site-packages (from aiohttp[speedups]<4.0.0,>=3.7.4.post0->meross_iot) (1.1.0)\n",
      "Requirement already satisfied: charset-normalizer<4,>=2 in c:\\python312\\lib\\site-packages (from requests<3.0.0,>=2.19.1->meross_iot) (3.3.2)\n",
      "Requirement already satisfied: idna<4,>=2.5 in c:\\python312\\lib\\site-packages (from requests<3.0.0,>=2.19.1->meross_iot) (3.4)\n",
      "Requirement already satisfied: urllib3<3,>=1.21.1 in c:\\python312\\lib\\site-packages (from requests<3.0.0,>=2.19.1->meross_iot) (2.0.7)\n",
      "Requirement already satisfied: certifi>=2017.4.17 in c:\\python312\\lib\\site-packages (from requests<3.0.0,>=2.19.1->meross_iot) (2023.7.22)\n"
     ]
    },
    {
     "name": "stderr",
     "output_type": "stream",
     "text": [
      "WARNING: There was an error checking the latest version of pip.\n"
     ]
    }
   ],
   "source": [
    "pip install meross_iot\n"
   ]
  },
  {
   "cell_type": "code",
   "execution_count": 29,
   "metadata": {},
   "outputs": [
    {
     "name": "stdout",
     "output_type": "stream",
     "text": [
      "Note: you may need to restart the kernel to use updated packages.\n"
     ]
    },
    {
     "name": "stderr",
     "output_type": "stream",
     "text": [
      "c:\\Python312\\python.exe: No module named pip\n"
     ]
    }
   ],
   "source": [
    "pip install --upgrade pip setuptools --user\n"
   ]
  },
  {
   "cell_type": "code",
   "execution_count": 1,
   "metadata": {},
   "outputs": [
    {
     "ename": "SyntaxError",
     "evalue": "invalid syntax (2893336626.py, line 1)",
     "output_type": "error",
     "traceback": [
      "\u001b[1;36m  Cell \u001b[1;32mIn[1], line 1\u001b[1;36m\u001b[0m\n\u001b[1;33m    pip uninstall meross_iot\u001b[0m\n\u001b[1;37m        ^\u001b[0m\n\u001b[1;31mSyntaxError\u001b[0m\u001b[1;31m:\u001b[0m invalid syntax\n"
     ]
    }
   ],
   "source": [
    "pip uninstall meross_iot\n",
    "# pip install meross_iot\n"
   ]
  },
  {
   "cell_type": "code",
   "execution_count": 27,
   "metadata": {},
   "outputs": [
    {
     "ename": "ModuleNotFoundError",
     "evalue": "No module named 'meross_iot.api'",
     "output_type": "error",
     "traceback": [
      "\u001b[1;31m---------------------------------------------------------------------------\u001b[0m",
      "\u001b[1;31mModuleNotFoundError\u001b[0m                       Traceback (most recent call last)",
      "Cell \u001b[1;32mIn[27], line 1\u001b[0m\n\u001b[1;32m----> 1\u001b[0m \u001b[38;5;28;01mfrom\u001b[39;00m \u001b[38;5;21;01mmeross_iot\u001b[39;00m\u001b[38;5;21;01m.\u001b[39;00m\u001b[38;5;21;01mapi\u001b[39;00m \u001b[38;5;28;01mimport\u001b[39;00m MerossHttpClient\n\u001b[0;32m      2\u001b[0m \u001b[38;5;28;01mfrom\u001b[39;00m \u001b[38;5;21;01mmeross_iot\u001b[39;00m\u001b[38;5;21;01m.\u001b[39;00m\u001b[38;5;21;01mmanager\u001b[39;00m \u001b[38;5;28;01mimport\u001b[39;00m MerossManager\n\u001b[0;32m      4\u001b[0m \u001b[38;5;66;03m# Your Meross login credentials\u001b[39;00m\n",
      "\u001b[1;31mModuleNotFoundError\u001b[0m: No module named 'meross_iot.api'"
     ]
    }
   ],
   "source": [
    "from meross_iot.api import MerossHttpClient\n",
    "from meross_iot.manager import MerossManager\n",
    "\n",
    "# Your Meross login credentials\n",
    "email = \"suhasdevmanecardiffuni@gmail.com\"\n",
    "password = \"Suhas@55199\"\n",
    "\n",
    "# Create a Meross HTTP client\n",
    "http_client = MerossHttpClient(email, password)\n",
    "\n",
    "# Login to the Meross cloud\n",
    "http_client.login()\n",
    "\n",
    "# Instantiate the Meross manager\n",
    "manager = MerossManager(http_client)\n",
    "\n",
    "# Discover devices\n",
    "manager.start()\n",
    "\n",
    "# Get the first found smart plug\n",
    "device = manager.get_devices_by_kind(\"switch\")[0]\n",
    "\n",
    "# Turn on the plug\n",
    "device.turn_on()\n",
    "\n",
    "# Turn off the plug\n",
    "device.turn_off()\n",
    "\n",
    "# Close the manager\n",
    "manager.stop()"
   ]
  },
  {
   "cell_type": "code",
   "execution_count": 13,
   "metadata": {},
   "outputs": [],
   "source": [
    "import asyncio\n",
    "import os\n",
    "\n",
    "from meross_iot.http_api import MerossHttpClient\n",
    "from meross_iot.manager import MerossManager\n",
    "\n",
    "EMAIL = os.environ.get(\"suhasdevmanecardiffuni@gmail.com\")\n",
    "PASSWORD = os.environ.get(\"Suhas@551993\")\n",
    "\n",
    "\n",
    "async def main():\n",
    "    # Setup the HTTP client API from user-password\n",
    "    http_api_client = await MerossHttpClient.async_from_user_password(\n",
    "        email=EMAIL, password=PASSWORD\n",
    "    )\n",
    "\n",
    "    # Setup and start the device manager\n",
    "    manager = MerossManager(http_client=http_api_client)\n",
    "    await manager.async_init()\n",
    "\n",
    "    # Discover devices.\n",
    "    await manager.async_device_discovery()\n",
    "    meross_devices = manager.find_devices()\n",
    "\n",
    "    # Print them\n",
    "    print(\"I've found the following devices:\")\n",
    "    for dev in meross_devices:\n",
    "        print(f\"- {dev.name} ({dev.type}): {dev.online_status}\")\n",
    "\n",
    "    # Close the manager and logout from http_api\n",
    "    manager.close()\n",
    "    await http_api_client.async_logout()\n",
    "\n",
    "\n",
    "if __name__ == \"__main__\":\n",
    "    if os.name == \"nt\":\n",
    "        asyncio.set_event_loop_policy(asyncio.WindowsSelectorEventLoopPolicy())\n",
    "\n",
    "    if asyncio.get_event_loop().is_running():\n",
    "        loop = asyncio.get_event_loop()\n",
    "    else:\n",
    "        loop = asyncio.new_event_loop()\n",
    "        asyncio.set_event_loop(loop)"
   ]
  },
  {
   "cell_type": "code",
   "execution_count": 23,
   "metadata": {},
   "outputs": [
    {
     "ename": "RuntimeError",
     "evalue": "asyncio.run() cannot be called from a running event loop",
     "output_type": "error",
     "traceback": [
      "\u001b[1;31m---------------------------------------------------------------------------\u001b[0m",
      "\u001b[1;31mRuntimeError\u001b[0m                              Traceback (most recent call last)",
      "Cell \u001b[1;32mIn[23], line 38\u001b[0m\n\u001b[0;32m     36\u001b[0m \u001b[38;5;28;01mif\u001b[39;00m os\u001b[38;5;241m.\u001b[39mname \u001b[38;5;241m==\u001b[39m \u001b[38;5;124m\"\u001b[39m\u001b[38;5;124mnt\u001b[39m\u001b[38;5;124m\"\u001b[39m:\n\u001b[0;32m     37\u001b[0m     asyncio\u001b[38;5;241m.\u001b[39mset_event_loop_policy(asyncio\u001b[38;5;241m.\u001b[39mWindowsSelectorEventLoopPolicy())\n\u001b[1;32m---> 38\u001b[0m \u001b[43masyncio\u001b[49m\u001b[38;5;241;43m.\u001b[39;49m\u001b[43mrun\u001b[49m\u001b[43m(\u001b[49m\u001b[43mmain\u001b[49m\u001b[43m(\u001b[49m\u001b[43m)\u001b[49m\u001b[43m)\u001b[49m\n",
      "File \u001b[1;32mc:\\Python312\\Lib\\asyncio\\runners.py:190\u001b[0m, in \u001b[0;36mrun\u001b[1;34m(main, debug, loop_factory)\u001b[0m\n\u001b[0;32m    161\u001b[0m \u001b[38;5;250m\u001b[39m\u001b[38;5;124;03m\"\"\"Execute the coroutine and return the result.\u001b[39;00m\n\u001b[0;32m    162\u001b[0m \n\u001b[0;32m    163\u001b[0m \u001b[38;5;124;03mThis function runs the passed coroutine, taking care of\u001b[39;00m\n\u001b[1;32m   (...)\u001b[0m\n\u001b[0;32m    186\u001b[0m \u001b[38;5;124;03m    asyncio.run(main())\u001b[39;00m\n\u001b[0;32m    187\u001b[0m \u001b[38;5;124;03m\"\"\"\u001b[39;00m\n\u001b[0;32m    188\u001b[0m \u001b[38;5;28;01mif\u001b[39;00m events\u001b[38;5;241m.\u001b[39m_get_running_loop() \u001b[38;5;129;01mis\u001b[39;00m \u001b[38;5;129;01mnot\u001b[39;00m \u001b[38;5;28;01mNone\u001b[39;00m:\n\u001b[0;32m    189\u001b[0m     \u001b[38;5;66;03m# fail fast with short traceback\u001b[39;00m\n\u001b[1;32m--> 190\u001b[0m     \u001b[38;5;28;01mraise\u001b[39;00m \u001b[38;5;167;01mRuntimeError\u001b[39;00m(\n\u001b[0;32m    191\u001b[0m         \u001b[38;5;124m\"\u001b[39m\u001b[38;5;124masyncio.run() cannot be called from a running event loop\u001b[39m\u001b[38;5;124m\"\u001b[39m)\n\u001b[0;32m    193\u001b[0m \u001b[38;5;28;01mwith\u001b[39;00m Runner(debug\u001b[38;5;241m=\u001b[39mdebug, loop_factory\u001b[38;5;241m=\u001b[39mloop_factory) \u001b[38;5;28;01mas\u001b[39;00m runner:\n\u001b[0;32m    194\u001b[0m     \u001b[38;5;28;01mreturn\u001b[39;00m runner\u001b[38;5;241m.\u001b[39mrun(main)\n",
      "\u001b[1;31mRuntimeError\u001b[0m: asyncio.run() cannot be called from a running event loop"
     ]
    }
   ],
   "source": [
    "import asyncio\n",
    "import os\n",
    "\n",
    "from meross_iot.http_api import MerossHttpClient\n",
    "from meross_iot.manager import MerossManager\n",
    "\n",
    "EMAIL = os.environ.get(\"suhasdevmanecardiffuni@gmail.com\")\n",
    "PASSWORD = os.environ.get(\"Suhas@551993\")\n",
    "\n",
    "\n",
    "async def main():\n",
    "    # Setup the HTTP client API from user-password\n",
    "    http_api_client = await MerossHttpClient.async_from_user_password(\n",
    "        email=EMAIL, password=PASSWORD\n",
    "    )\n",
    "\n",
    "    # Setup and start the device manager\n",
    "    manager = MerossManager(http_client=http_api_client)\n",
    "    await manager.async_init()\n",
    "\n",
    "    # Discover devices.\n",
    "    await manager.async_device_discovery()\n",
    "    meross_devices = manager.find_devices()\n",
    "\n",
    "    # Print them\n",
    "    print(\"I've found the following devices:\")\n",
    "    for dev in meross_devices:\n",
    "        print(f\"- {dev.name} ({dev.type}): {dev.online_status}\")\n",
    "\n",
    "    # Close the manager and logout from http_api\n",
    "    manager.close()\n",
    "    await http_api_client.async_logout()\n",
    "\n",
    "\n",
    "if __name__ == \"__main__\":\n",
    "    if os.name == \"nt\":\n",
    "        asyncio.set_event_loop_policy(asyncio.WindowsSelectorEventLoopPolicy())\n",
    "    asyncio.run(main())"
   ]
  },
  {
   "cell_type": "markdown",
   "metadata": {},
   "source": [
    "### Controlling switches"
   ]
  },
  {
   "cell_type": "code",
   "execution_count": 4,
   "metadata": {},
   "outputs": [
    {
     "ename": "RuntimeError",
     "evalue": "This event loop is already running",
     "output_type": "error",
     "traceback": [
      "\u001b[1;31m---------------------------------------------------------------------------\u001b[0m",
      "\u001b[1;31mRuntimeError\u001b[0m                              Traceback (most recent call last)",
      "Cell \u001b[1;32mIn[4], line 58\u001b[0m\n\u001b[0;32m     56\u001b[0m     asyncio\u001b[38;5;241m.\u001b[39mset_event_loop_policy(asyncio\u001b[38;5;241m.\u001b[39mWindowsSelectorEventLoopPolicy())\n\u001b[0;32m     57\u001b[0m loop \u001b[38;5;241m=\u001b[39m asyncio\u001b[38;5;241m.\u001b[39mget_event_loop()\n\u001b[1;32m---> 58\u001b[0m \u001b[43mloop\u001b[49m\u001b[38;5;241;43m.\u001b[39;49m\u001b[43mrun_until_complete\u001b[49m\u001b[43m(\u001b[49m\u001b[43mmain\u001b[49m\u001b[43m(\u001b[49m\u001b[43m)\u001b[49m\u001b[43m)\u001b[49m\n\u001b[0;32m     59\u001b[0m loop\u001b[38;5;241m.\u001b[39mstop()\n",
      "File \u001b[1;32mc:\\Python312\\Lib\\asyncio\\base_events.py:640\u001b[0m, in \u001b[0;36mBaseEventLoop.run_until_complete\u001b[1;34m(self, future)\u001b[0m\n\u001b[0;32m    629\u001b[0m \u001b[38;5;250m\u001b[39m\u001b[38;5;124;03m\"\"\"Run until the Future is done.\u001b[39;00m\n\u001b[0;32m    630\u001b[0m \n\u001b[0;32m    631\u001b[0m \u001b[38;5;124;03mIf the argument is a coroutine, it is wrapped in a Task.\u001b[39;00m\n\u001b[1;32m   (...)\u001b[0m\n\u001b[0;32m    637\u001b[0m \u001b[38;5;124;03mReturn the Future's result, or raise its exception.\u001b[39;00m\n\u001b[0;32m    638\u001b[0m \u001b[38;5;124;03m\"\"\"\u001b[39;00m\n\u001b[0;32m    639\u001b[0m \u001b[38;5;28mself\u001b[39m\u001b[38;5;241m.\u001b[39m_check_closed()\n\u001b[1;32m--> 640\u001b[0m \u001b[38;5;28;43mself\u001b[39;49m\u001b[38;5;241;43m.\u001b[39;49m\u001b[43m_check_running\u001b[49m\u001b[43m(\u001b[49m\u001b[43m)\u001b[49m\n\u001b[0;32m    642\u001b[0m new_task \u001b[38;5;241m=\u001b[39m \u001b[38;5;129;01mnot\u001b[39;00m futures\u001b[38;5;241m.\u001b[39misfuture(future)\n\u001b[0;32m    643\u001b[0m future \u001b[38;5;241m=\u001b[39m tasks\u001b[38;5;241m.\u001b[39mensure_future(future, loop\u001b[38;5;241m=\u001b[39m\u001b[38;5;28mself\u001b[39m)\n",
      "File \u001b[1;32mc:\\Python312\\Lib\\asyncio\\base_events.py:599\u001b[0m, in \u001b[0;36mBaseEventLoop._check_running\u001b[1;34m(self)\u001b[0m\n\u001b[0;32m    597\u001b[0m \u001b[38;5;28;01mdef\u001b[39;00m \u001b[38;5;21m_check_running\u001b[39m(\u001b[38;5;28mself\u001b[39m):\n\u001b[0;32m    598\u001b[0m     \u001b[38;5;28;01mif\u001b[39;00m \u001b[38;5;28mself\u001b[39m\u001b[38;5;241m.\u001b[39mis_running():\n\u001b[1;32m--> 599\u001b[0m         \u001b[38;5;28;01mraise\u001b[39;00m \u001b[38;5;167;01mRuntimeError\u001b[39;00m(\u001b[38;5;124m'\u001b[39m\u001b[38;5;124mThis event loop is already running\u001b[39m\u001b[38;5;124m'\u001b[39m)\n\u001b[0;32m    600\u001b[0m     \u001b[38;5;28;01mif\u001b[39;00m events\u001b[38;5;241m.\u001b[39m_get_running_loop() \u001b[38;5;129;01mis\u001b[39;00m \u001b[38;5;129;01mnot\u001b[39;00m \u001b[38;5;28;01mNone\u001b[39;00m:\n\u001b[0;32m    601\u001b[0m         \u001b[38;5;28;01mraise\u001b[39;00m \u001b[38;5;167;01mRuntimeError\u001b[39;00m(\n\u001b[0;32m    602\u001b[0m             \u001b[38;5;124m'\u001b[39m\u001b[38;5;124mCannot run the event loop while another loop is running\u001b[39m\u001b[38;5;124m'\u001b[39m)\n",
      "\u001b[1;31mRuntimeError\u001b[0m: This event loop is already running"
     ]
    }
   ],
   "source": [
    "import asyncio\n",
    "import os\n",
    "import os\n",
    "from meross_iot.http_api import MerossHttpClient\n",
    "from meross_iot.manager import MerossManager\n",
    "\n",
    "EMAIL = os.environ.get(\"suhasdevmanecardiffuni@gmail.com\")\n",
    "PASSWORD = os.environ.get(\"Suhas@551993\")\n",
    "\n",
    "\n",
    "async def main():\n",
    "    # Setup the HTTP client API from user-password\n",
    "    http_api_client = await MerossHttpClient.async_from_user_password(\n",
    "        email=EMAIL, password=PASSWORD\n",
    "    )\n",
    "\n",
    "    # Setup and start the device manager\n",
    "    manager = MerossManager(http_client=http_api_client)\n",
    "    await manager.async_init()\n",
    "\n",
    "    # Retrieve all the MSS310 devices that are registered on this account\n",
    "    await manager.async_device_discovery()\n",
    "    plugs = manager.find_devices(device_type=\"mss310\")\n",
    "\n",
    "    if len(plugs) < 1:\n",
    "        print(\"No MSS310 plugs found...\")\n",
    "    else:\n",
    "        # Turn it on channel 0\n",
    "        # Note that channel argument is optional for MSS310 as they only have one channel\n",
    "        dev = plugs[0]\n",
    "\n",
    "        # Update device status: this is needed only the very first time we play with this device (or if the\n",
    "        #  connection goes down)\n",
    "        await dev.async_update()\n",
    "\n",
    "        print(f\"Turning on {dev.name}...\")\n",
    "        await dev.async_turn_on(channel=0)\n",
    "        print(\"Waiting a bit before turing it off\")\n",
    "        await asyncio.sleep(5)\n",
    "        print(f\"Turing off {dev.name}\")\n",
    "        await dev.async_turn_off(channel=0)\n",
    "\n",
    "    # Close the manager and logout from http_api\n",
    "    manager.close()\n",
    "    await http_api_client.async_logout()\n",
    "\n",
    "\n",
    "if __name__ == \"__main__\":\n",
    "    if os.name == \"nt\":\n",
    "        asyncio.set_event_loop_policy(asyncio.WindowsSelectorEventLoopPolicy())\n",
    "    loop = asyncio.get_event_loop()\n",
    "    loop.run_until_complete(main())\n",
    "    loop.stop()"
   ]
  },
  {
   "cell_type": "markdown",
   "metadata": {},
   "source": [
    "### login"
   ]
  },
  {
   "cell_type": "code",
   "execution_count": 21,
   "metadata": {},
   "outputs": [
    {
     "ename": "JSONDecodeError",
     "evalue": "Extra data: line 1 column 5 (char 4)",
     "output_type": "error",
     "traceback": [
      "\u001b[1;31m---------------------------------------------------------------------------\u001b[0m",
      "\u001b[1;31mJSONDecodeError\u001b[0m                           Traceback (most recent call last)",
      "File \u001b[1;32mc:\\Python312\\Lib\\site-packages\\requests\\models.py:971\u001b[0m, in \u001b[0;36mResponse.json\u001b[1;34m(self, **kwargs)\u001b[0m\n\u001b[0;32m    970\u001b[0m \u001b[38;5;28;01mtry\u001b[39;00m:\n\u001b[1;32m--> 971\u001b[0m     \u001b[38;5;28;01mreturn\u001b[39;00m \u001b[43mcomplexjson\u001b[49m\u001b[38;5;241;43m.\u001b[39;49m\u001b[43mloads\u001b[49m\u001b[43m(\u001b[49m\u001b[38;5;28;43mself\u001b[39;49m\u001b[38;5;241;43m.\u001b[39;49m\u001b[43mtext\u001b[49m\u001b[43m,\u001b[49m\u001b[43m \u001b[49m\u001b[38;5;241;43m*\u001b[39;49m\u001b[38;5;241;43m*\u001b[39;49m\u001b[43mkwargs\u001b[49m\u001b[43m)\u001b[49m\n\u001b[0;32m    972\u001b[0m \u001b[38;5;28;01mexcept\u001b[39;00m JSONDecodeError \u001b[38;5;28;01mas\u001b[39;00m e:\n\u001b[0;32m    973\u001b[0m     \u001b[38;5;66;03m# Catch JSON-related errors and raise as requests.JSONDecodeError\u001b[39;00m\n\u001b[0;32m    974\u001b[0m     \u001b[38;5;66;03m# This aliases json.JSONDecodeError and simplejson.JSONDecodeError\u001b[39;00m\n",
      "File \u001b[1;32mc:\\Python312\\Lib\\site-packages\\simplejson\\__init__.py:514\u001b[0m, in \u001b[0;36mloads\u001b[1;34m(s, encoding, cls, object_hook, parse_float, parse_int, parse_constant, object_pairs_hook, use_decimal, allow_nan, **kw)\u001b[0m\n\u001b[0;32m    510\u001b[0m \u001b[38;5;28;01mif\u001b[39;00m (\u001b[38;5;28mcls\u001b[39m \u001b[38;5;129;01mis\u001b[39;00m \u001b[38;5;28;01mNone\u001b[39;00m \u001b[38;5;129;01mand\u001b[39;00m encoding \u001b[38;5;129;01mis\u001b[39;00m \u001b[38;5;28;01mNone\u001b[39;00m \u001b[38;5;129;01mand\u001b[39;00m object_hook \u001b[38;5;129;01mis\u001b[39;00m \u001b[38;5;28;01mNone\u001b[39;00m \u001b[38;5;129;01mand\u001b[39;00m\n\u001b[0;32m    511\u001b[0m         parse_int \u001b[38;5;129;01mis\u001b[39;00m \u001b[38;5;28;01mNone\u001b[39;00m \u001b[38;5;129;01mand\u001b[39;00m parse_float \u001b[38;5;129;01mis\u001b[39;00m \u001b[38;5;28;01mNone\u001b[39;00m \u001b[38;5;129;01mand\u001b[39;00m\n\u001b[0;32m    512\u001b[0m         parse_constant \u001b[38;5;129;01mis\u001b[39;00m \u001b[38;5;28;01mNone\u001b[39;00m \u001b[38;5;129;01mand\u001b[39;00m object_pairs_hook \u001b[38;5;129;01mis\u001b[39;00m \u001b[38;5;28;01mNone\u001b[39;00m\n\u001b[0;32m    513\u001b[0m         \u001b[38;5;129;01mand\u001b[39;00m \u001b[38;5;129;01mnot\u001b[39;00m use_decimal \u001b[38;5;129;01mand\u001b[39;00m \u001b[38;5;129;01mnot\u001b[39;00m allow_nan \u001b[38;5;129;01mand\u001b[39;00m \u001b[38;5;129;01mnot\u001b[39;00m kw):\n\u001b[1;32m--> 514\u001b[0m     \u001b[38;5;28;01mreturn\u001b[39;00m \u001b[43m_default_decoder\u001b[49m\u001b[38;5;241;43m.\u001b[39;49m\u001b[43mdecode\u001b[49m\u001b[43m(\u001b[49m\u001b[43ms\u001b[49m\u001b[43m)\u001b[49m\n\u001b[0;32m    515\u001b[0m \u001b[38;5;28;01mif\u001b[39;00m \u001b[38;5;28mcls\u001b[39m \u001b[38;5;129;01mis\u001b[39;00m \u001b[38;5;28;01mNone\u001b[39;00m:\n",
      "File \u001b[1;32mc:\\Python312\\Lib\\site-packages\\simplejson\\decoder.py:389\u001b[0m, in \u001b[0;36mJSONDecoder.decode\u001b[1;34m(self, s, _w, _PY3)\u001b[0m\n\u001b[0;32m    388\u001b[0m \u001b[38;5;28;01mif\u001b[39;00m end \u001b[38;5;241m!=\u001b[39m \u001b[38;5;28mlen\u001b[39m(s):\n\u001b[1;32m--> 389\u001b[0m     \u001b[38;5;28;01mraise\u001b[39;00m JSONDecodeError(\u001b[38;5;124m\"\u001b[39m\u001b[38;5;124mExtra data\u001b[39m\u001b[38;5;124m\"\u001b[39m, s, end, \u001b[38;5;28mlen\u001b[39m(s))\n\u001b[0;32m    390\u001b[0m \u001b[38;5;28;01mreturn\u001b[39;00m obj\n",
      "\u001b[1;31mJSONDecodeError\u001b[0m: Extra data: line 1 column 5 - line 2 column 1 (char 4 - 19)",
      "\nDuring handling of the above exception, another exception occurred:\n",
      "\u001b[1;31mJSONDecodeError\u001b[0m                           Traceback (most recent call last)",
      "Cell \u001b[1;32mIn[21], line 79\u001b[0m\n\u001b[0;32m     73\u001b[0m     \u001b[38;5;28mprint\u001b[39m(\u001b[38;5;124m\"\u001b[39m\u001b[38;5;132;01m{}\u001b[39;00m\u001b[38;5;124m \u001b[39m\u001b[38;5;132;01m{}\u001b[39;00m\u001b[38;5;124m\"\u001b[39m\u001b[38;5;241m.\u001b[39mformat(\u001b[38;5;124m\"\u001b[39m\u001b[38;5;124mtimestamp:\u001b[39m\u001b[38;5;124m\"\u001b[39m, current))\n\u001b[0;32m     76\u001b[0m \u001b[38;5;66;03m# ONLY MODIFY THIS\u001b[39;00m\n\u001b[0;32m     77\u001b[0m \u001b[38;5;66;03m# EMAIL = os.environ.get(\"suhasdevmanecardiffuni@gmail.com\")\u001b[39;00m\n\u001b[0;32m     78\u001b[0m \u001b[38;5;66;03m# PASSWORD = os.environ.get(\"Suhas@551993\")\u001b[39;00m\n\u001b[1;32m---> 79\u001b[0m \u001b[43mlogin\u001b[49m\u001b[43m(\u001b[49m\u001b[38;5;124;43m\"\u001b[39;49m\u001b[38;5;124;43msuhasdevmanecardiffuni@gmail.com\u001b[39;49m\u001b[38;5;124;43m\"\u001b[39;49m\u001b[43m,\u001b[49m\u001b[43m \u001b[49m\u001b[38;5;124;43m\"\u001b[39;49m\u001b[38;5;124;43mSuhas@551993\u001b[39;49m\u001b[38;5;124;43m\"\u001b[39;49m\u001b[43m)\u001b[49m\n",
      "Cell \u001b[1;32mIn[21], line 65\u001b[0m, in \u001b[0;36mlogin\u001b[1;34m(username, password)\u001b[0m\n\u001b[0;32m     62\u001b[0m current \u001b[38;5;241m=\u001b[39m get_unix_time()\n\u001b[0;32m     63\u001b[0m message_id \u001b[38;5;241m=\u001b[39m msg_id(current)\n\u001b[1;32m---> 65\u001b[0m key, userid, token \u001b[38;5;241m=\u001b[39m \u001b[43mget_key\u001b[49m\u001b[43m(\u001b[49m\u001b[43musername\u001b[49m\u001b[43m,\u001b[49m\u001b[43m \u001b[49m\u001b[43mpassword\u001b[49m\u001b[43m,\u001b[49m\u001b[43m \u001b[49m\u001b[43mcurrent\u001b[49m\u001b[43m)\u001b[49m\n\u001b[0;32m     66\u001b[0m sign \u001b[38;5;241m=\u001b[39m signing_key(message_id, key, current)\n\u001b[0;32m     68\u001b[0m \u001b[38;5;28mprint\u001b[39m(\u001b[38;5;124m\"\u001b[39m\u001b[38;5;132;01m{}\u001b[39;00m\u001b[38;5;124m \u001b[39m\u001b[38;5;132;01m{}\u001b[39;00m\u001b[38;5;124m\"\u001b[39m\u001b[38;5;241m.\u001b[39mformat(\u001b[38;5;124m\"\u001b[39m\u001b[38;5;124muserId:\u001b[39m\u001b[38;5;124m\"\u001b[39m, userid))\n",
      "Cell \u001b[1;32mIn[21], line 49\u001b[0m, in \u001b[0;36mget_key\u001b[1;34m(username, password, uts)\u001b[0m\n\u001b[0;32m     40\u001b[0m data \u001b[38;5;241m=\u001b[39m {\n\u001b[0;32m     41\u001b[0m     \u001b[38;5;124m\"\u001b[39m\u001b[38;5;124mparams\u001b[39m\u001b[38;5;124m\"\u001b[39m: encoded_param,\n\u001b[0;32m     42\u001b[0m     \u001b[38;5;124m\"\u001b[39m\u001b[38;5;124msign\u001b[39m\u001b[38;5;124m\"\u001b[39m: sign,\n\u001b[0;32m     43\u001b[0m     \u001b[38;5;124m\"\u001b[39m\u001b[38;5;124mtimestamp\u001b[39m\u001b[38;5;124m\"\u001b[39m: unix_time,\n\u001b[0;32m     44\u001b[0m     \u001b[38;5;124m\"\u001b[39m\u001b[38;5;124mnonce\u001b[39m\u001b[38;5;124m\"\u001b[39m: nonce,\n\u001b[0;32m     45\u001b[0m }\n\u001b[0;32m     46\u001b[0m response \u001b[38;5;241m=\u001b[39m requests\u001b[38;5;241m.\u001b[39mpost(\n\u001b[0;32m     47\u001b[0m     \u001b[38;5;124m\"\u001b[39m\u001b[38;5;124mhttps://iot.meross.com/v1/Auth/login\u001b[39m\u001b[38;5;124m\"\u001b[39m, headers\u001b[38;5;241m=\u001b[39mheaders, data\u001b[38;5;241m=\u001b[39mdata\n\u001b[0;32m     48\u001b[0m )\n\u001b[1;32m---> 49\u001b[0m key \u001b[38;5;241m=\u001b[39m \u001b[43mresponse\u001b[49m\u001b[38;5;241;43m.\u001b[39;49m\u001b[43mjson\u001b[49m\u001b[43m(\u001b[49m\u001b[43m)\u001b[49m[\u001b[38;5;124m\"\u001b[39m\u001b[38;5;124mdata\u001b[39m\u001b[38;5;124m\"\u001b[39m][\u001b[38;5;124m\"\u001b[39m\u001b[38;5;124mkey\u001b[39m\u001b[38;5;124m\"\u001b[39m]\n\u001b[0;32m     50\u001b[0m userid \u001b[38;5;241m=\u001b[39m response\u001b[38;5;241m.\u001b[39mjson()[\u001b[38;5;124m\"\u001b[39m\u001b[38;5;124mdata\u001b[39m\u001b[38;5;124m\"\u001b[39m][\u001b[38;5;124m\"\u001b[39m\u001b[38;5;124muserid\u001b[39m\u001b[38;5;124m\"\u001b[39m]\n\u001b[0;32m     51\u001b[0m token \u001b[38;5;241m=\u001b[39m response\u001b[38;5;241m.\u001b[39mjson()[\u001b[38;5;124m\"\u001b[39m\u001b[38;5;124mdata\u001b[39m\u001b[38;5;124m\"\u001b[39m][\u001b[38;5;124m\"\u001b[39m\u001b[38;5;124mtoken\u001b[39m\u001b[38;5;124m\"\u001b[39m]\n",
      "File \u001b[1;32mc:\\Python312\\Lib\\site-packages\\requests\\models.py:975\u001b[0m, in \u001b[0;36mResponse.json\u001b[1;34m(self, **kwargs)\u001b[0m\n\u001b[0;32m    971\u001b[0m     \u001b[38;5;28;01mreturn\u001b[39;00m complexjson\u001b[38;5;241m.\u001b[39mloads(\u001b[38;5;28mself\u001b[39m\u001b[38;5;241m.\u001b[39mtext, \u001b[38;5;241m*\u001b[39m\u001b[38;5;241m*\u001b[39mkwargs)\n\u001b[0;32m    972\u001b[0m \u001b[38;5;28;01mexcept\u001b[39;00m JSONDecodeError \u001b[38;5;28;01mas\u001b[39;00m e:\n\u001b[0;32m    973\u001b[0m     \u001b[38;5;66;03m# Catch JSON-related errors and raise as requests.JSONDecodeError\u001b[39;00m\n\u001b[0;32m    974\u001b[0m     \u001b[38;5;66;03m# This aliases json.JSONDecodeError and simplejson.JSONDecodeError\u001b[39;00m\n\u001b[1;32m--> 975\u001b[0m     \u001b[38;5;28;01mraise\u001b[39;00m RequestsJSONDecodeError(e\u001b[38;5;241m.\u001b[39mmsg, e\u001b[38;5;241m.\u001b[39mdoc, e\u001b[38;5;241m.\u001b[39mpos)\n",
      "\u001b[1;31mJSONDecodeError\u001b[0m: Extra data: line 1 column 5 (char 4)"
     ]
    }
   ],
   "source": [
    "import base64\n",
    "import hashlib\n",
    "import string\n",
    "import random\n",
    "import requests\n",
    "import time\n",
    "\n",
    "\n",
    "def rand_gen(size, chars=string.ascii_lowercase + string.digits):\n",
    "    return str(\"\".join(random.choice(chars) for _ in range(size)))\n",
    "\n",
    "\n",
    "def msg_id(unix_time):\n",
    "    concat_string = \"{}{}\".format(rand_gen(16), unix_time)\n",
    "    final_md5 = hashlib.md5(concat_string.encode(\"utf-8\")).hexdigest()\n",
    "    return str(final_md5)\n",
    "\n",
    "\n",
    "def get_unix_time():\n",
    "    current_time = int(time.time())\n",
    "    return current_time\n",
    "\n",
    "\n",
    "def get_key(username, password, uts):\n",
    "\n",
    "    nonce = rand_gen\n",
    "    unix_time = uts\n",
    "\n",
    "    param = '{{\"email\":\"{}\",\"password\":\"{}\"}}'.format(username, password)\n",
    "    encoded_param = base64.standard_b64encode(param.encode(\"utf8\"))\n",
    "\n",
    "    concat_sign = \"{}{}{}{}\".format(\n",
    "        \"23x17ahWarFH6w29\", unix_time, nonce, encoded_param.decode(\"utf-8\")\n",
    "    )\n",
    "    sign = hashlib.md5(concat_sign.encode(\"utf-8\")).hexdigest()\n",
    "\n",
    "    headers = {\n",
    "        \"content-type\": \"application/x-www-form-urlencoded\",\n",
    "    }\n",
    "    data = {\n",
    "        \"params\": encoded_param,\n",
    "        \"sign\": sign,\n",
    "        \"timestamp\": unix_time,\n",
    "        \"nonce\": nonce,\n",
    "    }\n",
    "    response = requests.post(\n",
    "        \"https://iot.meross.com/v1/Auth/login\", headers=headers, data=data\n",
    "    )\n",
    "    key = response.json()[\"data\"][\"key\"]\n",
    "    userid = response.json()[\"data\"][\"userid\"]\n",
    "    token = response.json()[\"data\"][\"token\"]\n",
    "    return str(key), str(userid), str(token)\n",
    "\n",
    "\n",
    "def signing_key(message_id, key, uts):\n",
    "    concat_string = \"{}{}{}\".format(message_id, key, uts)\n",
    "    final_md5 = hashlib.md5(concat_string.encode(\"utf-8\")).hexdigest()\n",
    "    return str(final_md5)\n",
    "\n",
    "\n",
    "def login(username, password):\n",
    "    current = get_unix_time()\n",
    "    message_id = msg_id(current)\n",
    "\n",
    "    key, userid, token = get_key(username, password, current)\n",
    "    sign = signing_key(message_id, key, current)\n",
    "\n",
    "    print(\"{} {}\".format(\"userId:\", userid))\n",
    "    print(\"{} {}\".format(\"key:\", key))\n",
    "    print(\"{} {}\".format(\"token:\", token))\n",
    "    print(\"{} {}\".format(\"messageId:\", message_id))\n",
    "    print(\"{} {}\".format(\"sign:\", sign))\n",
    "    print(\"{} {}\".format(\"timestamp:\", current))\n",
    "\n",
    "\n",
    "# ONLY MODIFY THIS\n",
    "# EMAIL = os.environ.get(\"suhasdevmanecardiffuni@gmail.com\")\n",
    "# PASSWORD = os.environ.get(\"Suhas@551993\")\n",
    "login(\"suhasdevmanecardiffuni@gmail.com\", \"Suhas@551993\")"
   ]
  }
 ],
 "metadata": {
  "kernelspec": {
   "display_name": "Python 3",
   "language": "python",
   "name": "python3"
  },
  "language_info": {
   "codemirror_mode": {
    "name": "ipython",
    "version": 3
   },
   "file_extension": ".py",
   "mimetype": "text/x-python",
   "name": "python",
   "nbconvert_exporter": "python",
   "pygments_lexer": "ipython3",
   "version": "3.12.0"
  }
 },
 "nbformat": 4,
 "nbformat_minor": 2
}
